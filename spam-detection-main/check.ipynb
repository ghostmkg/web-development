{
 "cells": [
  {
   "cell_type": "code",
   "execution_count": 1,
   "metadata": {},
   "outputs": [
    {
     "data": {
      "text/plain": [
       "array([0])"
      ]
     },
     "execution_count": 1,
     "metadata": {},
     "output_type": "execute_result"
    }
   ],
   "source": [
    "import pickle\n",
    "\n",
    "sentence =[\"\"\"\n",
    "Hi Team,\n",
    "\n",
    "I hope you all are doing well. As a reminder, we have our weekly team meeting scheduled for tomorrow at 10:00 AM in the main conference room.\n",
    "\n",
    "The agenda for the meeting includes project updates where each team member will provide a brief update on their current projects and discuss any challenges or roadblocks. We will also review feedback received from our recent client meetings and plan actionable steps based on the feedback.\n",
    "\n",
    "Additionally, we will review upcoming project deadlines to ensure we are on track and assign any additional tasks as necessary. We will also discuss ideas for our next team building activity. Finally, we will open the floor for any questions or additional points anyone wants to discuss.\n",
    "\n",
    "Please come prepared with your updates and any points you would like to discuss. If you have any items to add to the agenda, let me know by the end of today.\n",
    "\n",
    "Looking forward to seeing you all there!\n",
    "           \n",
    "           \"\"\"]\n",
    "cv = pickle.load(open('CountVectorizer.pkl','rb'))\n",
    "model = pickle.load(open('MultinomialNB.pkl', 'rb'))\n",
    "\n",
    "sen = cv.transform(sentence)\n",
    "ans = model.predict(sen)\n",
    "ans"
   ]
  },
  {
   "cell_type": "code",
   "execution_count": null,
   "metadata": {},
   "outputs": [],
   "source": []
  }
 ],
 "metadata": {
  "kernelspec": {
   "display_name": "Python 3",
   "language": "python",
   "name": "python3"
  },
  "language_info": {
   "codemirror_mode": {
    "name": "ipython",
    "version": 3
   },
   "file_extension": ".py",
   "mimetype": "text/x-python",
   "name": "python",
   "nbconvert_exporter": "python",
   "pygments_lexer": "ipython3",
   "version": "3.11.9"
  }
 },
 "nbformat": 4,
 "nbformat_minor": 2
}
